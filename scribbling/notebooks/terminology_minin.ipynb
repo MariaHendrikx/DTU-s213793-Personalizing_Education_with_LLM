{
 "cells": [
  {
   "cell_type": "code",
   "execution_count": 50,
   "metadata": {},
   "outputs": [],
   "source": [
    "import os\n",
    "import openai\n",
    "from dotenv import load_dotenv\n",
    "# Load environment variables\n",
    "load_dotenv()\n",
    "import json\n",
    "\n",
    "class MainChat:\n",
    "    def __init__(self, system_message):\n",
    "        self.api_type = \"azure\"\n",
    "        self.api_base = \"https://decmasterthesis25.openai.azure.com/\"\n",
    "        self.api_version = \"2023-07-01-preview\"\n",
    "        self.api_key = os.getenv(\"AZURE_OPENAI_API_KEY\")\n",
    "        \n",
    "        openai.api_key = self.api_key\n",
    "        openai.api_type = self.api_type\n",
    "        openai.api_base = self.api_base\n",
    "        openai.api_version = self.api_version\n",
    "\n",
    "        self.system_message = system_message\n",
    "        \n",
    "        self.chat_history = []\n",
    "        self.chat_history.append({\"role\": \"system\", \"content\": system_message})\n",
    "\n",
    "    def chat(self, user_input, system_message = None):\n",
    "        try:\n",
    "            message_text = {\"role\": \"user\", \"content\": user_input}\n",
    "            self.chat_history.append(message_text)\n",
    "\n",
    "            completion = openai.ChatCompletion.create(\n",
    "                engine=\"gpt-4\",\n",
    "                messages=self.chat_history,\n",
    "                temperature=0.7,\n",
    "                max_tokens=2000,\n",
    "                top_p=0.95,\n",
    "                frequency_penalty=0,\n",
    "                presence_penalty=0,\n",
    "                stop=None\n",
    "            )\n",
    "            \n",
    "            response_content = completion.choices[0].message['content'].strip()\n",
    "            self.chat_history.append({\"role\": \"system\", \"content\": response_content})\n",
    "        \n",
    "            return response_content\n",
    "        except Exception as e:\n",
    "            return f\"An error occurred: {str(e)}\"\n",
    "    def reset_history(self):\n",
    "        self.chat_history = []\n",
    "        self.chat_history.append({\"role\": \"system\", \"content\": self.system_message})\n",
    "\n",
    "\n"
   ]
  },
  {
   "cell_type": "code",
   "execution_count": 18,
   "metadata": {},
   "outputs": [
    {
     "name": "stdout",
     "output_type": "stream",
     "text": [
      "Term-AI: DONT UNDERSTAND: reinforcement, AI\n",
      "Explainer-AI: Reinforcement: It is a term in psychology which refers to the process of using rewards or punishment to encourage or discourage certain behaviors. In the context of machine learning, it's a type of learning where an agent learns to behave in an environment, by performing certain actions and observing the results.\n",
      "\n",
      "AI: AI stands for Artificial Intelligence. It is a branch of computer science dealing with the simulation of intelligent behavior in computers, meaning it involves creating machines or software that can imitate human intelligence.\n"
     ]
    }
   ],
   "source": [
    "# Example usage\n",
    "system_message_agent_1 = \"\"\"\n",
    "We are playing a simulation game. You are a helper searching for terminology not in your terminology list.\n",
    "You are only allowed to speak with the instructions given below and nothing else. \n",
    "\n",
    "You have limited terminology knowledge, but you can learn new terminology. \n",
    "Imagine know have a TERMINOLOGY-LIST of a typical 16 year old teenager as database.\n",
    "Below you will get extra terminology you know in addition to the terminology of a typical 16 year old teenager.\n",
    "If words are not existent in the TERMINOLOGY-LIST, you answer with \"DONT UNDERSTAND:\" followed with the list. \n",
    "and give a list of words why you are answering with 'DONT UNDERSTAND:'.\n",
    "\n",
    "IF you get an explanation of the new terms, analyze the text (both the term and the explanation) for new terms that are not in your TERMINOLOGY-LIST.\n",
    "IF all terms in the text (including in the explanation) are in the TERMINOLOGY-LIST, list all new-learned terms and end with TERMINATE as last word\n",
    "ELSE you answer with \"DONT UNDERSTAND:\" followed with the list of words not in your TERMINOLOGY-LIST.\n",
    "If a verb is in the TERMINOLOGY-LIST, you also know the conjugations.\n",
    "\n",
    "Extra words you know: \"\"\"\n",
    "\n",
    "chat_instance = MainChat(system_message_agent_1)\n",
    "\n",
    "system_message_explainer = \"\"\"You are a helpful AI Assistant that explains words. You explain all terms after 'DONT UNDERSTAND: *a list of words*',, \n",
    "THEN you should answer with explanations for those words in less than 2 sentences. List each word.\n",
    "IF you understand everything, then asnwer with 'quit'\n",
    "\"\"\"\n",
    "\n",
    "chat_instance_explainer = MainChat(system_message_explainer)\n",
    "\n",
    "user_input = 'What is reinforcement learning in AI?'\n",
    "response = chat_instance.chat(user_input.strip())\n",
    "explained = chat_instance_explainer.chat(response.strip())\n",
    "\n",
    "print(\"Term-AI:\", response)\n",
    "print(\"Explainer-AI:\", explained)"
   ]
  },
  {
   "cell_type": "code",
   "execution_count": 19,
   "metadata": {},
   "outputs": [
    {
     "name": "stdout",
     "output_type": "stream",
     "text": [
      "Term-AI:\n",
      " NEW TERMS LEARNED: \n",
      "Reinforcement, AI\n",
      "TERMINATE\n"
     ]
    }
   ],
   "source": [
    "user_input = explained\n",
    "response = chat_instance.chat(user_input.strip())\n",
    "print(\"Term-AI:\\n\", response)\n",
    "\n"
   ]
  },
  {
   "cell_type": "markdown",
   "metadata": {},
   "source": [
    "Example 2"
   ]
  },
  {
   "cell_type": "code",
   "execution_count": 21,
   "metadata": {},
   "outputs": [
    {
     "name": "stdout",
     "output_type": "stream",
     "text": [
      "Term-AI: DONT UNDERSTAND: quintessential, underpinning, facilitating, optimization, meticulous, iterative, adjustments, principle, gradient, descent, leveraging, calculus, partial derivatives, compute, gradient, loss function.\n"
     ]
    }
   ],
   "source": [
    "chat_instance = MainChat(system_message_agent_1)\n",
    "chat_instance_explainer = MainChat(system_message_explainer)\n",
    "\n",
    "user_input = 'Backpropagation, or the backward propagation of errors, is a quintessential algorithm underpinning the training mechanism of neural networks, facilitating the optimization of weights through meticulous iterative adjustments. This algorithm operates on the principle of gradient descent, leveraging the calculus concept of partial derivatives to compute the gradient of the loss function with respect to each weight in the network.'\n",
    "response = chat_instance.chat(user_input.strip())\n",
    "\n",
    "print(\"Term-AI:\\n\", response)\n",
    "\n",
    "\n"
   ]
  },
  {
   "cell_type": "code",
   "execution_count": 22,
   "metadata": {},
   "outputs": [
    {
     "name": "stdout",
     "output_type": "stream",
     "text": [
      "Explainer-AI: 1. Quintessential: Representing the most perfect or typical example of a quality or class.\n",
      "2. Underpinning: A solid foundation or basis of a structure or argument.\n",
      "3. Facilitating: Making an action or process easier or less difficult.\n",
      "4. Optimization: The process of making something as fully perfect, functional, or effective as possible.\n",
      "5. Meticulous: Showing great attention to detail; very careful and precise.\n",
      "6. Iterative: Involving repetition, as in a process or sequence.\n",
      "7. Adjustments: Changes or alterations designed to produce a desired effect, fit, or result.\n",
      "8. Principle: A fundamental truth or proposition that serves as the foundation for a system of belief or behavior.\n",
      "9. Gradient: A measure of the steepness of a graph at any point.\n",
      "10. Descent: The action of moving downward, dropping, or falling.\n",
      "11. Leveraging: Using something to maximum advantage.\n",
      "12. Calculus: A branch of mathematics that deals with rates of change and the accumulation of quantities.\n",
      "13. Partial Derivatives: In calculus, the derivative of a function with several variables with respect to one of those variables, keeping the others constant.\n",
      "14. Compute: To calculate or reckon a figure or amount.\n",
      "15. Gradient: A measure of the steepness of a graph at any point.\n",
      "16. Loss Function: A method of evaluating how well a specific algorithm models the given data.\n"
     ]
    }
   ],
   "source": [
    "explained = chat_instance_explainer.chat(response.strip())\n",
    "print(\"Explainer-AI:\", explained)\n"
   ]
  },
  {
   "cell_type": "code",
   "execution_count": 23,
   "metadata": {},
   "outputs": [
    {
     "name": "stdout",
     "output_type": "stream",
     "text": [
      "Term-AI:\n",
      " NEW-LEARNED TERMS: quintessential, underpinning, facilitating, optimization, meticulous, iterative, adjustments, principle, gradient, descent, leveraging, calculus, partial derivatives, compute, gradient, loss function. TERMINATE\n"
     ]
    }
   ],
   "source": [
    "user_input = explained\n",
    "response = chat_instance.chat(user_input.strip())\n",
    "print(\"Term-AI:\\n\", response)"
   ]
  },
  {
   "cell_type": "markdown",
   "metadata": {},
   "source": [
    "example 3"
   ]
  },
  {
   "cell_type": "code",
   "execution_count": 35,
   "metadata": {},
   "outputs": [
    {
     "name": "stdout",
     "output_type": "stream",
     "text": [
      "Term-AI:\n",
      " DONT UNDERSTAND: deep learning\n"
     ]
    }
   ],
   "source": [
    "\n",
    "system_message_agent_1 = \"\"\"\n",
    "We are playing a simulation game. You are a helper searching for terminology not in your terminology list.\n",
    "You are only allowed to speak with the instructions given below and nothing else. \n",
    "\n",
    "You have limited terminology knowledge, but you can learn new terminology. \n",
    "Imagine you have a TERMINOLOGY-LIST of a typical 16 year old teenager as database.\n",
    "\n",
    "If words are not existent in your TERMINOLOGY-LIST, you answer with \"DONT UNDERSTAND:\" followed with the list. \n",
    "If you get an explanation for a word, analyze the explanation and do the same as above.\n",
    "If no new words are present, answer with TERMINATE'.\n",
    "\"\"\"\n",
    "\n",
    "system_message_explainer = \"\"\"You are a helpful AI Assistant that explains words. You explain all terms after 'DONT UNDERSTAND: *a list of words*',, \n",
    "THEN you should answer with explanations for those words in less than 4 sentences. List each word.\n",
    "IF you understand everything, then asnwer with 'quit'\n",
    "\"\"\"\n",
    "\n",
    "chat_instance = MainChat(system_message_agent_1)\n",
    "chat_instance_explainer = MainChat(system_message_explainer)\n",
    "\n",
    "user_input = 'What is deep learning?'\n",
    "response = chat_instance.chat(user_input.strip())\n",
    "\n",
    "print(\"Term-AI:\\n\", response)"
   ]
  },
  {
   "cell_type": "code",
   "execution_count": 36,
   "metadata": {},
   "outputs": [
    {
     "name": "stdout",
     "output_type": "stream",
     "text": [
      "Explainer-AI: Deep learning is a subset of machine learning, a type of artificial intelligence (AI) that involves the creation and use of neural networks with several layers. These layers are a kind of modelled inspired by the human brain and are designed to translate inputs into outputs that the programmer wants. It's called \"deep\" because of the potentially many layers that can be in the neural network.\n"
     ]
    }
   ],
   "source": [
    "explained = chat_instance_explainer.chat(response.strip())\n",
    "print(\"Explainer-AI:\", explained)"
   ]
  },
  {
   "cell_type": "code",
   "execution_count": 37,
   "metadata": {},
   "outputs": [
    {
     "name": "stdout",
     "output_type": "stream",
     "text": [
      "Term-AI:\n",
      " DONT UNDERSTAND: machine learning, artificial intelligence, neural networks, modelled, inputs, outputs, programmer, \"deep\"\n"
     ]
    }
   ],
   "source": [
    "user_input = explained\n",
    "response = chat_instance.chat(user_input.strip())\n",
    "print(\"Term-AI:\\n\", response)"
   ]
  },
  {
   "cell_type": "code",
   "execution_count": 38,
   "metadata": {},
   "outputs": [
    {
     "name": "stdout",
     "output_type": "stream",
     "text": [
      "Explainer-AI: 1. Machine Learning: A field of artificial intelligence that uses statistical techniques to enable computer systems to 'learn' from data without being explicitly programmed.\n",
      "2. Artificial Intelligence: The theory and development of computer systems able to perform tasks normally requiring human intelligence, such as visual perception, speech recognition, decision-making, and translation.\n",
      "3. Neural Networks: A series of algorithms that attempts to identify underlying relationships in a set of data through a process that mimics the way the human brain operates.\n",
      "4. Modelled: In computing, it refers to the process of creating a representation of a system or a specific situation in order to simulate or predict its behavior.\n",
      "5. Inputs: The data that is fed into a system, machine, or model.\n",
      "6. Outputs: The results produced by a system, machine, or model.\n",
      "7. Programmer: A person who writes and tests computer code, which can be used to create or control software and applications.\n",
      "8. \"Deep\": In the context of deep learning, it refers to the potentially many layers in the neural network. The depth of the network is a key factor in its ability to learn complex patterns and relationships from data.\n"
     ]
    }
   ],
   "source": [
    "explained = chat_instance_explainer.chat(response.strip())\n",
    "print(\"Explainer-AI:\", explained)"
   ]
  },
  {
   "cell_type": "code",
   "execution_count": 39,
   "metadata": {},
   "outputs": [
    {
     "name": "stdout",
     "output_type": "stream",
     "text": [
      "Term-AI:\n",
      " TERMINATE'\n"
     ]
    }
   ],
   "source": [
    "user_input = explained\n",
    "response = chat_instance.chat(user_input.strip())\n",
    "print(\"Term-AI:\\n\", response)"
   ]
  },
  {
   "cell_type": "code",
   "execution_count": 41,
   "metadata": {},
   "outputs": [
    {
     "name": "stdout",
     "output_type": "stream",
     "text": [
      "Term-AI:\n",
      " DONT UNDERSTAND: deep learning\n"
     ]
    }
   ],
   "source": [
    "\n",
    "system_message_agent_1 = \"\"\"\n",
    "We are playing a simulation game. You are a helper searching for terminology not in your terminology list.\n",
    "You are only allowed to speak with the instructions given below and nothing else. \n",
    "\n",
    "You have limited terminology knowledge, but you can learn new terminology. \n",
    "Imagine you have a TERMINOLOGY-LIST of a typical 16 year old teenager as database.\n",
    "\n",
    "If words are not existent in your TERMINOLOGY-LIST, you answer with \"DONT UNDERSTAND:\" followed with the list. \n",
    "If you get an explanation for a word, analyze the explanation and do the same as above.\n",
    "If no new words are present, answer with TERMINATE'.\n",
    "\"\"\"\n",
    "\n",
    "system_message_explainer = \"\"\"You are a helpful AI Assistant that explains words. You explain all terms after 'DONT UNDERSTAND: *a list of words*',, \n",
    "THEN you should answer with explanations for those words in less than 10 sentences. List each word.\n",
    "IF you understand everything, then asnwer with 'quit'\n",
    "\"\"\"\n",
    "\n",
    "chat_instance = MainChat(system_message_agent_1)\n",
    "chat_instance_explainer = MainChat(system_message_explainer)\n",
    "\n",
    "user_input = 'deep learning?'\n",
    "response = chat_instance.chat(user_input.strip())\n",
    "\n",
    "print(\"Term-AI:\\n\", response)"
   ]
  },
  {
   "cell_type": "code",
   "execution_count": 42,
   "metadata": {},
   "outputs": [
    {
     "name": "stdout",
     "output_type": "stream",
     "text": [
      "Explainer-AI: Deep learning is a type of artificial intelligence (AI) that mimics the workings of the human brain in processing data for use in decision making. It's a subset of machine learning in AI that has networks which are capable of learning unsupervised from data that is unstructured or unlabeled. Deep learning is used in many industries for various tasks such as voice recognition, image recognition, and natural language processing.\n"
     ]
    }
   ],
   "source": [
    "explained = chat_instance_explainer.chat(response.strip())\n",
    "print(\"Explainer-AI:\", explained)"
   ]
  },
  {
   "cell_type": "code",
   "execution_count": 43,
   "metadata": {},
   "outputs": [
    {
     "name": "stdout",
     "output_type": "stream",
     "text": [
      "Term-AI:\n",
      " DONT UNDERSTAND: artificial intelligence, machine learning, networks, unsupervised learning, unstructured data, unlabeled data, voice recognition, image recognition, natural language processing.\n"
     ]
    }
   ],
   "source": [
    "user_input = explained\n",
    "response = chat_instance.chat(user_input.strip())\n",
    "print(\"Term-AI:\\n\", response)"
   ]
  },
  {
   "cell_type": "code",
   "execution_count": 44,
   "metadata": {},
   "outputs": [
    {
     "name": "stdout",
     "output_type": "stream",
     "text": [
      "Explainer-AI: 1. Artificial Intelligence (AI): This refers to the simulation of human intelligence processes by machines, especially computer systems. AI can include learning, reasoning, and self-correction.\n",
      "\n",
      "2. Machine Learning: A type of AI that gives computers the ability to learn from and make decisions without being explicitly programmed. It uses algorithms and statistical models to perform tasks without explicit instructions, relying on patterns and inference instead.\n",
      "\n",
      "3. Networks: In the context of AI and Machine Learning, networks often refer to 'neural networks,' which are computing systems inspired by the human brain. They are interconnected layers of algorithms, called neurons, that feed data into each other, and they can learn from data.\n",
      "\n",
      "4. Unsupervised Learning: A type of machine learning algorithm used to draw inferences from datasets consisting of input data without labeled responses. The most common unsupervised learning method is cluster analysis.\n",
      "\n",
      "5. Unstructured Data: This refers to information that either does not have a pre-defined data model or is not organized in a pre-defined manner. It's often text-heavy and includes data like emails, videos, and social media posts.\n",
      "\n",
      "6. Unlabeled Data: This is data that does not have a label or a known answer. In the context of machine learning, a model might use unsupervised learning to understand and learn from unlabeled data.\n",
      "\n",
      "7. Voice Recognition: This is the ability of a machine or program to receive, interpret, and dictate spoken commands. It's widely used in AI, Siri, Google Assistant, and Alexa are examples.\n",
      "\n",
      "8. Image Recognition: This is the ability of AI to detect, identify and classify objects or features in an image. It's used in a variety of applications, such as photo tagging on social media and self-driving cars.\n",
      "\n",
      "9. Natural Language Processing (NLP): A branch of AI that helps computers understand, interpret, and generate human language. NLP draws from many disciplines, including computer science and computational linguistics, in its pursuit to fill the gap between human communication and computer understanding.\n"
     ]
    }
   ],
   "source": [
    "explained = chat_instance_explainer.chat(response.strip())\n",
    "print(\"Explainer-AI:\", explained)"
   ]
  },
  {
   "cell_type": "code",
   "execution_count": 45,
   "metadata": {},
   "outputs": [
    {
     "name": "stdout",
     "output_type": "stream",
     "text": [
      "Term-AI:\n",
      " TERMINATE'\n"
     ]
    }
   ],
   "source": [
    "user_input = explained\n",
    "response = chat_instance.chat(user_input.strip())\n",
    "print(\"Term-AI:\\n\", response)"
   ]
  },
  {
   "cell_type": "code",
   "execution_count": 46,
   "metadata": {},
   "outputs": [
    {
     "name": "stdout",
     "output_type": "stream",
     "text": [
      "Term-AI:\n",
      " DONT UNDERSTAND: unsupervised learning\n"
     ]
    }
   ],
   "source": [
    "system_message_agent_1 = \"\"\"\n",
    "We are playing a simulation game. You are a helper searching for terminology not in your terminology list.\n",
    "You are only allowed to speak with the instructions given below and nothing else. \n",
    "\n",
    "You have limited terminology knowledge, but you can learn new terminology. \n",
    "Imagine you have a TERMINOLOGY-LIST of a typical 16 year old teenager as database.\n",
    "\n",
    "If words are not existent in your TERMINOLOGY-LIST, you answer with \"DONT UNDERSTAND:\" followed with the list. \n",
    "If you get an explanation for a word, analyze the explanation and do the same as above.\n",
    "If no new words are present, answer with TERMINATE'.\n",
    "\"\"\"\n",
    "\n",
    "system_message_explainer = \"\"\"You are a helpful AI Assistant that explains words. You explain all terms after 'DONT UNDERSTAND: *a list of words*',, \n",
    "THEN you should answer with explanations for those words in less than 10 sentences. List each word.\n",
    "IF you understand everything, then asnwer with 'quit'\n",
    "\"\"\"\n",
    "\n",
    "chat_instance = MainChat(system_message_agent_1)\n",
    "chat_instance_explainer = MainChat(system_message_explainer)\n",
    "\n",
    "user_input = 'unsupervised learning'\n",
    "response = chat_instance.chat(user_input.strip())\n",
    "\n",
    "print(\"Term-AI:\\n\", response)"
   ]
  },
  {
   "cell_type": "code",
   "execution_count": 47,
   "metadata": {},
   "outputs": [
    {
     "name": "stdout",
     "output_type": "stream",
     "text": [
      "Explainer-AI: Unsupervised learning is a type of machine learning that looks for previously undetected patterns in a data set with no pre-existing labels and with a minimum of human supervision. In contrast to supervised learning that usually makes use of human-labeled data, unsupervised learning, also known as self-organization allows for modeling of probability densities of given inputs. It's commonly used in applications like anomaly detection, association rule mining, and clustering.\n"
     ]
    }
   ],
   "source": [
    "explained = chat_instance_explainer.chat(response.strip())\n",
    "print(\"Explainer-AI:\", explained)"
   ]
  },
  {
   "cell_type": "code",
   "execution_count": 48,
   "metadata": {},
   "outputs": [
    {
     "name": "stdout",
     "output_type": "stream",
     "text": [
      "Term-AI:\n",
      " DONT UNDERSTAND: machine learning, patterns, data set, pre-existing labels, human supervision, supervised learning, human-labeled data, self-organization, modeling of probability densities, inputs, anomaly detection, association rule mining, clustering.\n"
     ]
    }
   ],
   "source": [
    "user_input = explained\n",
    "response = chat_instance.chat(user_input.strip())\n",
    "print(\"Term-AI:\\n\", response)"
   ]
  },
  {
   "cell_type": "code",
   "execution_count": 49,
   "metadata": {},
   "outputs": [
    {
     "name": "stdout",
     "output_type": "stream",
     "text": [
      "Explainer-AI: 1. Machine Learning: A field of artificial intelligence that uses statistical techniques to enable computer systems to learn and improve from experience.\n",
      "\n",
      "2. Patterns: In the context of data analysis, patterns refer to the recurring or regular arrangements in the data.\n",
      "\n",
      "3. Data Set: A collection of related sets of information that is composed of separate elements but can be manipulated as a unit by a computer.\n",
      "\n",
      "4. Pre-existing Labels: Information associated with data that defines its characteristics or category.\n",
      "\n",
      "5. Human Supervision: The process where humans oversee, guide, or manage a process or system.\n",
      "\n",
      "6. Supervised Learning: A type of machine learning where models are trained using labeled data, i.e., data paired with the correct output.\n",
      "\n",
      "7. Human-labeled Data: Data that has been categorized or tagged with relevant labels by humans.\n",
      "\n",
      "8. Self-Organization: A process where some form of overall order or coordination arises out of the local interactions between parts of an initially disordered system.\n",
      "\n",
      "9. Modeling of Probability Densities: It's the process of finding a probability distribution that best fits the underlying data.\n",
      "\n",
      "10. Inputs: In computing, inputs are the data fed into a system.\n",
      "\n",
      "11. Anomaly Detection: The identification of items, events, or observations which do not conform to an expected pattern in a dataset.\n",
      "\n",
      "12. Association Rule Mining: A technique to identify the frequent patterns, correlations, associations from a dataset.\n",
      "\n",
      "13. Clustering: A Machine Learning technique that involves the grouping of data points.\n"
     ]
    }
   ],
   "source": [
    "explained = chat_instance_explainer.chat(response.strip())\n",
    "print(\"Explainer-AI:\", explained)"
   ]
  },
  {
   "cell_type": "code",
   "execution_count": 51,
   "metadata": {},
   "outputs": [
    {
     "name": "stdout",
     "output_type": "stream",
     "text": [
      "Term-AI:\n",
      " TERMINATE'\n"
     ]
    }
   ],
   "source": [
    "user_input = explained\n",
    "response = chat_instance.chat(user_input.strip())\n",
    "print(\"Term-AI:\\n\", response)"
   ]
  },
  {
   "cell_type": "code",
   "execution_count": 53,
   "metadata": {},
   "outputs": [
    {
     "name": "stdout",
     "output_type": "stream",
     "text": [
      "Term-AI:\n",
      " DONT UNDERSTAND: 'machine learning'\n",
      "Explainer-AI: Machine learning is a type of artificial intelligence (AI) that allows a computer system to learn from data input and improve from experience, without being specifically programmed to do so. In other words, it's a method of data analysis that automates the building of analytical models. It is used in various sectors to make predictions or decisions without human intervention.\n",
      "Term-AI:\n",
      " DONT UNDERSTAND: 'artificial intelligence', 'computer system', 'data input', 'experience', 'method', 'data analysis', 'automates', 'analytical models', 'sectors', 'predictions', 'decisions', 'human intervention'\n",
      "Explainer-AI: 1. Artificial Intelligence: It refers to the simulation of human intelligence processes by machines, especially computer systems. This involves learning, reasoning, and self-correction.\n",
      "2. Computer System: A computer system is a set of integrated devices that input, output, process, and store data and information.\n",
      "3. Data Input: This is the process of entering data into a computer or data processing system.\n",
      "4. Experience: In this context, it refers to the knowledge or skill acquired by a system over time through exposure to data and different situations.\n",
      "5. Method: This refers to a particular procedure for accomplishing or approaching something.\n",
      "6. Data Analysis: It is the process of inspecting, cleaning, transforming, and modeling data to discover useful information, inform conclusions, and support decision-making.\n",
      "7. Automates: This term means to make a process operate automatically by using machines or computer systems.\n",
      "8. Analytical Models: These are mathematical models that are used to predict a system’s behavior or to guide decision making.\n",
      "9. Sectors: These are distinct parts of a nation's economy or industry.\n",
      "10. Predictions: These are forecasts or guesses about what will happen in the future based on data, trends, or other information.\n",
      "11. Decisions: Choices or judgments that you make.\n",
      "12. Human Intervention: This refers to actions taken by humans to manage or influence a particular system or process.\n"
     ]
    }
   ],
   "source": [
    "chat_instance = MainChat(system_message_agent_1)\n",
    "chat_instance_explainer = MainChat(system_message_explainer)\n",
    "\n",
    "user_input = 'machine learning'\n",
    "response = chat_instance.chat(user_input.strip())\n",
    "print(\"Term-AI:\\n\", response)\n",
    "\n",
    "explained = chat_instance_explainer.chat(response.strip())\n",
    "print(\"Explainer-AI:\\n\", explained)\n",
    "\n",
    "user_input = explained\n",
    "response = chat_instance.chat(user_input.strip())\n",
    "print(\"Term-AI:\\n\", response)\n",
    "\n",
    "explained = chat_instance_explainer.chat(response.strip())\n",
    "print(\"Explainer-AI:\\n\", explained)\n",
    "\n",
    "user_input = explained\n",
    "response = chat_instance.chat(user_input.strip())\n",
    "print(\"Term-AI:\\n\", response)"
   ]
  },
  {
   "cell_type": "code",
   "execution_count": 57,
   "metadata": {},
   "outputs": [
    {
     "name": "stdout",
     "output_type": "stream",
     "text": [
      "Term-AI:\n",
      " DONT UNDERSTAND: Artificial Intelligence (AI), Neural Networks, Machine Learning, Supervised Learning, Unsupervised Learning, Reinforcement Learning, Convolutional Neural Networks (CNNs), Recurrent Neural Networks (RNNs), Deep Neural Networks (DNNs), Backpropagation, Feature Extraction, Activation Function, Loss Function, Gradient Descent, Tensor Processing Units (TPUs), Graphics Processing Units (GPUs), Overfitting, Underfitting, Regularization, Data Augmentation, Transfer Learning, Natural Language Processing (NLP), Computer Vision, Generative Adversarial Networks (GANs), Autoencoders.\n",
      "Explainer-AI:\n",
      " 1. Artificial Intelligence (AI): AI is the simulation of human intelligence processes by machines, especially computer systems.\n",
      "2. Neural Networks: Neural networks are a set of algorithms, modeled loosely after the human brain, designed to recognize patterns.\n",
      "3. Machine Learning: Machine Learning is a type of AI that allows a system to learn and improve from experience without being explicitly programmed.\n",
      "4. Supervised Learning: Supervised learning is a type of Machine Learning where the model is trained on labeled data.\n",
      "5. Unsupervised Learning: In Unsupervised Learning, the model learns from unlabeled data and finds hidden patterns or intrinsic structures in input data.\n",
      "6. Reinforcement Learning: Reinforcement Learning is a type of Machine Learning where an agent learns to behave in an environment, by performing certain actions and observing the results/rewards.\n",
      "7. Convolutional Neural Networks (CNNs): CNNs are deep learning algorithms used primarily for image processing, classification, segmentation and also for other auto correlated data.\n",
      "8. Recurrent Neural Networks (RNNs): RNNs are a type of Artificial Neural Network designed to recognize patterns in sequences of data.\n",
      "9. Deep Neural Networks (DNNs): DNNs are neural networks with multiple layers between the input and output layers which allows for the processing of more complex data.\n",
      "10. Backpropagation: Backpropagation is a method used to adjust the weights of neural networks based on the error rate obtained in the previous epoch (calculated using a loss function).\n",
      "11. Feature Extraction: Feature extraction involves reducing the amount of resources required to describe a large set of data accurately.\n",
      "12. Activation Function: The activation function decides whether a neuron should be activated or not by calculating the weighted sum and further adding bias.\n",
      "13. Loss Function: A loss function is used to optimize the model during training. It calculates the difference between the predicted and actual outputs.\n",
      "14. Gradient Descent: Gradient Descent is an optimization algorithm used to minimize some function by iteratively moving in the direction of steepest descent.\n",
      "15. Tensor Processing Units (TPUs): TPUs are Google’s custom-developed application-specific integrated circuits (ASICs) used to accelerate machine learning workloads.\n",
      "16. Graphics Processing Units (GPUs): GPUs are specialized electronic circuits designed to rapidly manipulate and alter memory to accelerate the creation of images in a frame buffer intended for output to a display device.\n",
      "17. Overfitting: Overfitting happens when a model learns the detail and noise in the training data to the extent that it negatively impacts the performance of the model on new data.\n",
      "18. Underfitting: Underfitting refers to a model that can neither model the training data nor generalize to new data.\n",
      "19. Regularization: Regularization is a technique used to prevent overfitting by adding a penalty term to the loss function.\n",
      "20. Data Augmentation: Data Augmentation is a strategy used to increase the diversity of data available for training models, without actually collecting new data.\n",
      "21. Transfer Learning: Transfer Learning is a research problem in machine learning that focuses on storing knowledge gained while solving one problem and applying it to a different but related problem.\n",
      "22. Natural Language Processing (NLP): NLP is a branch of AI that helps computers understand, interpret and manipulate human language.\n",
      "23. Computer Vision: Computer Vision is a field of AI that trains computers to interpret and understand the visual world.\n",
      "24. Generative Adversarial Networks (GANs): GANs are a class of AI algorithms used in unsupervised machine learning, implemented by a system of two neural networks contesting with each other in a zero-sum game framework.\n",
      "25. Autoencoders: Autoencoders are a type of artificial neural network used for learning efficient codings of input data.\n",
      "Term-AI:\n",
      " TERMINATE'\n",
      "Explainer-AI:\n",
      " Quit\n",
      "Term-AI:\n",
      " TERMINATE'\n"
     ]
    }
   ],
   "source": [
    "\n",
    "chat_instance = MainChat(system_message_agent_1)\n",
    "chat_instance_explainer = MainChat(system_message_explainer)\n",
    "\n",
    "user_input = 'Artificial Intelligence (AI), Neural Networks, Machine Learning, Supervised Learning, Unsupervised Learning, Reinforcement Learning, Convolutional Neural Networks (CNNs), Recurrent Neural Networks (RNNs), Deep Neural Networks (DNNs), Backpropagation, Feature Extraction, Activation Function, Loss Function, Gradient Descent, Tensor Processing Units (TPUs), Graphics Processing Units (GPUs), Overfitting, Underfitting, Regularization, Data Augmentation, Transfer Learning, Natural Language Processing (NLP), Computer Vision, Generative Adversarial Networks (GANs), Autoencoders'\n",
    "response = chat_instance.chat(user_input.strip())\n",
    "print(\"Term-AI:\\n\", response)\n",
    "\n",
    "explained = chat_instance_explainer.chat(response.strip())\n",
    "print(\"Explainer-AI:\\n\", explained)\n",
    "\n",
    "user_input = explained\n",
    "response = chat_instance.chat(user_input.strip())\n",
    "print(\"Term-AI:\\n\", response)\n",
    "\n",
    "explained = chat_instance_explainer.chat(response.strip())\n",
    "print(\"Explainer-AI:\\n\", explained)\n",
    "\n",
    "user_input = explained\n",
    "response = chat_instance.chat(user_input.strip())\n",
    "print(\"Term-AI:\\n\", response)"
   ]
  }
 ],
 "metadata": {
  "kernelspec": {
   "display_name": "Python 3",
   "language": "python",
   "name": "python3"
  },
  "language_info": {
   "codemirror_mode": {
    "name": "ipython",
    "version": 3
   },
   "file_extension": ".py",
   "mimetype": "text/x-python",
   "name": "python",
   "nbconvert_exporter": "python",
   "pygments_lexer": "ipython3",
   "version": "3.11.8"
  }
 },
 "nbformat": 4,
 "nbformat_minor": 2
}

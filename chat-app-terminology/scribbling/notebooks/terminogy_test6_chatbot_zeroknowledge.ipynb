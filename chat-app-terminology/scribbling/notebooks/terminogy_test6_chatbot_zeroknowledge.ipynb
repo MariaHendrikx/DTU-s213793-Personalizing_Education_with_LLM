{
 "cells": [
  {
   "cell_type": "markdown",
   "metadata": {},
   "source": [
    "This is an example of a possible application of how to use the terminology dataset. When learning a language, it's about learning new words. However, when there are too many new words, it might be discouraging to chat.\n",
    "\n",
    "That is why this approach might be possible with the help of LLMs. Because we can keep track of the terminology the user knows in a seperate database. Then categorize/pinpoint the words that the user should know. And integrate these words with a gradual approach."
   ]
  },
  {
   "cell_type": "code",
   "execution_count": 2,
   "metadata": {},
   "outputs": [
    {
     "name": "stdout",
     "output_type": "stream",
     "text": [
      "LLM models:  ['gpt-4-32k', 'gpt-4']\n"
     ]
    }
   ],
   "source": [
    "import autogen\n",
    "\n",
    "config_list = autogen.config_list_from_json(\n",
    "    \"OAI_CONFIG_LIST\",\n",
    "    file_location=\".\",\n",
    "    filter_dict={\n",
    "        \"model\": [\"gpt-4\", \"gpt4\", \"gpt-4-32k\"],\n",
    "    },\n",
    ")\n",
    "\n",
    "print(\"LLM models: \", [config_list[i][\"model\"] for i in range(len(config_list))])\n",
    "\n",
    "llm_config = {\n",
    "    \"timeout\": 60,\n",
    "    \"cache_seed\": 42,\n",
    "    \"config_list\": config_list,\n",
    "    \"temperature\": 0,\n",
    "}\n",
    "\n",
    "# autogen.ChatCompletion.start_logging()\n",
    "termination_msg = lambda x: isinstance(x, dict) and \"TERMINATE\" == str(x.get(\"content\", \"\"))[-9:].upper()"
   ]
  },
  {
   "cell_type": "code",
   "execution_count": 1,
   "metadata": {},
   "outputs": [
    {
     "ename": "NameError",
     "evalue": "name 'autogen' is not defined",
     "output_type": "error",
     "traceback": [
      "\u001b[1;31m---------------------------------------------------------------------------\u001b[0m",
      "\u001b[1;31mNameError\u001b[0m                                 Traceback (most recent call last)",
      "Cell \u001b[1;32mIn[1], line 27\u001b[0m\n\u001b[0;32m      1\u001b[0m system_message \u001b[38;5;241m=\u001b[39m \u001b[38;5;124m\"\"\"\u001b[39m\u001b[38;5;124mWe are playing a simulation game.\u001b[39m\n\u001b[0;32m      2\u001b[0m \u001b[38;5;124mYou are a friendly chatbot that can only speak with terminology given in the list below. You can\u001b[39m\u001b[38;5;124m'\u001b[39m\u001b[38;5;124mt speak or use any other words.\u001b[39m\n\u001b[0;32m      3\u001b[0m \u001b[38;5;124mYour sentences need to be grammatically correct. If you can\u001b[39m\u001b[38;5;124m'\u001b[39m\u001b[38;5;124mt achieve this, you are allowed to add a maximum of 3 new terms to the list. \u001b[39m\n\u001b[1;32m   (...)\u001b[0m\n\u001b[0;32m     23\u001b[0m \u001b[38;5;124m}\u001b[39m\n\u001b[0;32m     24\u001b[0m \u001b[38;5;124m\"\"\"\u001b[39m\n\u001b[0;32m     26\u001b[0m \u001b[38;5;66;03m# 1. create an AssistantAgent instance named \"assistant\"\u001b[39;00m\n\u001b[1;32m---> 27\u001b[0m assistant \u001b[38;5;241m=\u001b[39m \u001b[43mautogen\u001b[49m\u001b[38;5;241m.\u001b[39mAssistantAgent(\n\u001b[0;32m     28\u001b[0m     name\u001b[38;5;241m=\u001b[39m\u001b[38;5;124m\"\u001b[39m\u001b[38;5;124massistant\u001b[39m\u001b[38;5;124m\"\u001b[39m, \n\u001b[0;32m     29\u001b[0m     system_message\u001b[38;5;241m=\u001b[39msystem_message,\n\u001b[0;32m     30\u001b[0m     llm_config\u001b[38;5;241m=\u001b[39m{\n\u001b[0;32m     31\u001b[0m         \u001b[38;5;124m\"\u001b[39m\u001b[38;5;124mtimeout\u001b[39m\u001b[38;5;124m\"\u001b[39m: \u001b[38;5;241m600\u001b[39m,\n\u001b[0;32m     32\u001b[0m         \u001b[38;5;124m\"\u001b[39m\u001b[38;5;124mseed\u001b[39m\u001b[38;5;124m\"\u001b[39m: \u001b[38;5;241m42\u001b[39m,\n\u001b[0;32m     33\u001b[0m         \u001b[38;5;124m\"\u001b[39m\u001b[38;5;124mconfig_list\u001b[39m\u001b[38;5;124m\"\u001b[39m: config_list,\n\u001b[0;32m     34\u001b[0m     },\n\u001b[0;32m     35\u001b[0m     is_termination_msg\u001b[38;5;241m=\u001b[39mtermination_msg\n\u001b[0;32m     36\u001b[0m )\n\u001b[0;32m     38\u001b[0m \u001b[38;5;66;03m# create a UserProxyAgent instance named \"user_proxy\"\u001b[39;00m\n\u001b[0;32m     39\u001b[0m user_proxy \u001b[38;5;241m=\u001b[39m autogen\u001b[38;5;241m.\u001b[39mAssistantAgent(\n\u001b[0;32m     40\u001b[0m     name\u001b[38;5;241m=\u001b[39m\u001b[38;5;124m\"\u001b[39m\u001b[38;5;124muser_proxy\u001b[39m\u001b[38;5;124m\"\u001b[39m,\n\u001b[0;32m     41\u001b[0m     human_input_mode\u001b[38;5;241m=\u001b[39m\u001b[38;5;124m\"\u001b[39m\u001b[38;5;124mNEVER\u001b[39m\u001b[38;5;124m\"\u001b[39m,\n\u001b[1;32m   (...)\u001b[0m\n\u001b[0;32m     49\u001b[0m     }\n\u001b[0;32m     50\u001b[0m )\n",
      "\u001b[1;31mNameError\u001b[0m: name 'autogen' is not defined"
     ]
    }
   ],
   "source": [
    "system_message = \"\"\"We are playing a simulation game.\n",
    "You are a friendly chatbot that can only speak with terminology given in the list below. You can't speak or use any other words.\n",
    "Your sentences need to be grammatically correct. If you can't achieve this, you are allowed to add a maximum of 3 new terms to the list. \n",
    "You will have to explain these 3 new terms in your answer.\n",
    "If you use any other words, you will be terminated.\n",
    "Also give a list of the newly learned word at the end of your answer.\n",
    "\n",
    "template answer: \n",
    "-----\n",
    "*gramattically correct answer*\n",
    "\n",
    "- new term 1: *definition*\n",
    "- new term 2: *definition*\n",
    "- new term 3: *definition*\n",
    "------\n",
    "\n",
    "\n",
    "TERMINOLOGY LIST: {\n",
    "    \"terminology\": [\n",
    "        \"hello\", \"goodbye\", \"please\", \"thank you\",\n",
    "        \"yes\", \"no\"\n",
    "    ]\n",
    "}\n",
    "\"\"\"\n",
    "\n",
    "# 1. create an AssistantAgent instance named \"assistant\"\n",
    "assistant = autogen.AssistantAgent(\n",
    "    name=\"assistant\", \n",
    "    system_message=system_message,\n",
    "    llm_config={\n",
    "        \"timeout\": 600,\n",
    "        \"seed\": 42,\n",
    "        \"config_list\": config_list,\n",
    "    },\n",
    "    is_termination_msg=termination_msg\n",
    ")\n",
    "\n",
    "# create a UserProxyAgent instance named \"user_proxy\"\n",
    "user_proxy = autogen.AssistantAgent(\n",
    "    name=\"user_proxy\",\n",
    "    human_input_mode=\"NEVER\",\n",
    "    system_message=\"\"\"You are a helpful AI Assistant.\"\"\",\n",
    "    max_consecutive_auto_reply=0,\n",
    "    is_termination_msg=termination_msg,\n",
    "    llm_config={\n",
    "        \"timeout\": 600,\n",
    "        \"seed\": 42,\n",
    "        \"config_list\": config_list,\n",
    "    }\n",
    ")\n",
    "user_message = \"\"\"Hello\"\"\"\n",
    "# the assistant receives a message from the user_proxy, which contains the task description\n",
    "user_proxy.initiate_chat(\n",
    "    assistant,\n",
    "    message=user_message,\n",
    ")"
   ]
  },
  {
   "cell_type": "code",
   "execution_count": 4,
   "metadata": {},
   "outputs": [
    {
     "name": "stdout",
     "output_type": "stream",
     "text": [
      "\u001b[33muser_proxy\u001b[0m (to assistant):\n",
      "\n",
      "What is your name?\n",
      "\n",
      "--------------------------------------------------------------------------------\n",
      "\u001b[33massistant\u001b[0m (to user_proxy):\n",
      "\n",
      "My name is AI.\n",
      "\n",
      "- AI: Artificial Intelligence\n",
      "\n",
      "--------------------------------------------------------------------------------\n"
     ]
    }
   ],
   "source": [
    "user_proxy.send(\n",
    "    recipient=assistant,\n",
    "    message=\"\"\"What is your name?\"\"\",\n",
    ")"
   ]
  },
  {
   "cell_type": "code",
   "execution_count": 5,
   "metadata": {},
   "outputs": [
    {
     "name": "stdout",
     "output_type": "stream",
     "text": [
      "\u001b[33muser_proxy\u001b[0m (to assistant):\n",
      "\n",
      "Hello, nice to meet you! I am a friendly person and I like to help people.\n",
      "\n",
      "--------------------------------------------------------------------------------\n",
      "\u001b[33massistant\u001b[0m (to user_proxy):\n",
      "\n",
      "Hello, it is nice to meet you too! I am here to help you. \n",
      "\n",
      "- nice: pleasant or pleasing\n",
      "- meet: come into the presence or company of (someone) by chance or arrangement\n",
      "- help: make it easier for (someone) to do something by offering one's services or resources\n",
      "\n",
      "--------------------------------------------------------------------------------\n"
     ]
    }
   ],
   "source": [
    "user_proxy.send(\n",
    "    recipient=assistant,\n",
    "    message=\"\"\"Hello, nice to meet you! I am a friendly person and I like to help people.\"\"\",\n",
    ")"
   ]
  }
 ],
 "metadata": {
  "kernelspec": {
   "display_name": "Python 3",
   "language": "python",
   "name": "python3"
  },
  "language_info": {
   "codemirror_mode": {
    "name": "ipython",
    "version": 3
   },
   "file_extension": ".py",
   "mimetype": "text/x-python",
   "name": "python",
   "nbconvert_exporter": "python",
   "pygments_lexer": "ipython3",
   "version": "3.11.7"
  }
 },
 "nbformat": 4,
 "nbformat_minor": 2
}

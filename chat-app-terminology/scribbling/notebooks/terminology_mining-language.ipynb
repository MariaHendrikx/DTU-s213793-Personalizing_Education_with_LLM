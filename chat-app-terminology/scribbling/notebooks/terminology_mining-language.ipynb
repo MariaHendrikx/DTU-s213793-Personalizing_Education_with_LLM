{
 "cells": [
  {
   "cell_type": "code",
   "execution_count": 2,
   "metadata": {},
   "outputs": [],
   "source": [
    "import os\n",
    "import openai\n",
    "from dotenv import load_dotenv\n",
    "# Load environment variables\n",
    "load_dotenv()\n",
    "import json\n",
    "\n",
    "class MainChat:\n",
    "    def __init__(self, system_message):\n",
    "        self.api_type = \"azure\"\n",
    "        self.api_base = \"https://decmasterthesis25.openai.azure.com/\"\n",
    "        self.api_version = \"2023-07-01-preview\"\n",
    "        self.api_key = os.getenv(\"AZURE_OPENAI_API_KEY\")\n",
    "        \n",
    "        openai.api_key = self.api_key\n",
    "        openai.api_type = self.api_type\n",
    "        openai.api_base = self.api_base\n",
    "        openai.api_version = self.api_version\n",
    "        \n",
    "        self.chat_history = []\n",
    "        self.chat_history.append({\"role\": \"system\", \"content\": system_message})\n",
    "\n",
    "    def chat(self, user_input, system_message = None):\n",
    "        try:\n",
    "            message_text = {\"role\": \"user\", \"content\": user_input}\n",
    "            self.chat_history.append(message_text)\n",
    "\n",
    "            completion = openai.ChatCompletion.create(\n",
    "                engine=\"gpt-4\",\n",
    "                messages=self.chat_history,\n",
    "                temperature=0.7,\n",
    "                max_tokens=2000,\n",
    "                top_p=0.95,\n",
    "                frequency_penalty=0,\n",
    "                presence_penalty=0,\n",
    "                stop=None\n",
    "            )\n",
    "            \n",
    "            response_content = completion.choices[0].message['content'].strip()\n",
    "            self.chat_history.append({\"role\": \"system\", \"content\": response_content})\n",
    "        \n",
    "            return response_content\n",
    "        except Exception as e:\n",
    "            return f\"An error occurred: {str(e)}\"\n",
    "\n",
    "\n"
   ]
  },
  {
   "cell_type": "code",
   "execution_count": 12,
   "metadata": {},
   "outputs": [
    {
     "name": "stdout",
     "output_type": "stream",
     "text": [
      "Term-AI: TERMINATE\n"
     ]
    }
   ],
   "source": [
    "system_message_agent_1 = \"\"\"\n",
    "We are playing a simulation game. You are a helper searching for terminology not in your terminology list.\n",
    "You are only allowed to speak with the instructions given below and nothing else. \n",
    "\n",
    "You have limited terminology knowledge, but you can learn new terminology. \n",
    "Imagine you have a TERMINOLOGY-LIST of CEFR level A2.\n",
    "\n",
    "If words are not existent in your TERMINOLOGY-LIST, you answer with \"DONT UNDERSTAND:\" followed with the list. \n",
    "If you get an explanation for a word, analyze the explanation and do the same as above.\n",
    "If no new words are present, answer with TERMINATE'.\n",
    "\"\"\"\n",
    "\n",
    "system_message_explainer = \"\"\"You are a helpful AI Assistant that explains words. You explain all terms after 'DONT UNDERSTAND: *a list of words*',, \n",
    "THEN you should answer with explanations for those words in less than 4 sentences. List each word, seperate with \\n.\n",
    "IF you understand everything, then asnwer with 'quit'\n",
    "\"\"\"\n",
    "\n",
    "chat_instance = MainChat(system_message_agent_1)\n",
    "chat_instance_explainer = MainChat(system_message_explainer)\n",
    "\n",
    "user_input = 'Hello, how are you?'\n",
    "response = chat_instance.chat(user_input.strip())\n",
    "\n",
    "print(\"Term-AI:\", response)\n",
    "\n"
   ]
  },
  {
   "cell_type": "code",
   "execution_count": 15,
   "metadata": {},
   "outputs": [
    {
     "name": "stdout",
     "output_type": "stream",
     "text": [
      "Term-AI: DONT UNDERSTAND: Delved, intricacies, quantum mechanics, increasingly, fascinated, profound, implications, understanding, universe, challenging, conventional, paradigms, physics, inviting, plethora, philosophical, inquiries.\n"
     ]
    }
   ],
   "source": [
    "user_input = '''Having delved into the intricacies of quantum mechanics, I've become increasingly fascinated by its profound implications on our understanding of the universe, challenging the conventional paradigms of physics and inviting a plethora of philosophical inquiries.'''\n",
    "response = chat_instance.chat(user_input.strip())\n",
    "print(\"Term-AI:\", response)\n"
   ]
  },
  {
   "cell_type": "code",
   "execution_count": 16,
   "metadata": {},
   "outputs": [
    {
     "name": "stdout",
     "output_type": "stream",
     "text": [
      "Explainer-AI: Delved: To delve into something means to reach inside and search for something. It's often used to refer to research or detailed investigations.\n",
      ".\n",
      "Intricacies: These are the complex, detailed aspects of something.\n",
      ".\n",
      "Quantum Mechanics: This is a branch of physics that deals with the behavior of particles on a very small scale, such as atoms and subatomic particles.\n",
      ".\n",
      "Increasingly: This means more and more; it's often used to describe a growing trend.\n",
      ".\n",
      "Fascinated: When you are fascinated by something, you are extremely interested and captivated by it.\n",
      ".\n",
      "Profound: Something that's profound has a strong, deep impact or effect.\n",
      ".\n",
      "Implications: These are the possible results or effects that could occur as a result of a particular action or decision.\n",
      ".\n",
      "Understanding: This is comprehension or the ability to understand something.\n",
      ".\n",
      "Universe: The universe is all existing matter and space as a whole; it includes galaxies, stars, planets, etc.\n",
      ".\n",
      "Challenging: Something that's challenging is difficult in a way that tests your abilities.\n",
      ".\n",
      "Conventional: This refers to what is generally accepted or believed.\n",
      ".\n",
      "Paradigms: Paradigms are typical examples or patterns of something. In science, it refers to a framework containing the basic assumptions, ways of thinking, and methodology.\n",
      ".\n",
      "Physics: This is a branch of science concerned with the nature and properties of matter and energy.\n",
      ".\n",
      "Inviting: If something is inviting, it is appealing or attractive.\n",
      ".\n",
      "Plethora: A plethora is a large amount of something.\n",
      ".\n",
      "Philosophical: This relates to the study of fundamental questions about existence, reality, knowledge, values, reason, mind, and ethics.\n",
      ".\n",
      "Inquiries: Inquiries are requests for information or an investigation into something.\n"
     ]
    }
   ],
   "source": [
    "explained = chat_instance_explainer.chat(response.strip())\n",
    "print(\"Explainer-AI:\", explained)"
   ]
  },
  {
   "cell_type": "code",
   "execution_count": 17,
   "metadata": {},
   "outputs": [
    {
     "name": "stdout",
     "output_type": "stream",
     "text": [
      "Term-AI:\n",
      " TERMINATE\n"
     ]
    }
   ],
   "source": [
    "user_input = explained\n",
    "response = chat_instance.chat(user_input.strip())\n",
    "print(\"Term-AI:\\n\", response)"
   ]
  }
 ],
 "metadata": {
  "kernelspec": {
   "display_name": "Python 3",
   "language": "python",
   "name": "python3"
  },
  "language_info": {
   "codemirror_mode": {
    "name": "ipython",
    "version": 3
   },
   "file_extension": ".py",
   "mimetype": "text/x-python",
   "name": "python",
   "nbconvert_exporter": "python",
   "pygments_lexer": "ipython3",
   "version": "3.11.8"
  }
 },
 "nbformat": 4,
 "nbformat_minor": 2
}
